{
  "cells": [
    {
      "cell_type": "markdown",
      "metadata": {
        "id": "yYDgvOwSp9pw"
      },
      "source": [
        "[![Open In Colab](https://colab.research.google.com/assets/colab-badge.svg)](https://colab.research.google.com/github/crunchdao/quickstarters/blob/master/competitions/broad-1/quickstarters/random-submission/random-submission.ipynb)"
      ]
    },
    {
      "cell_type": "markdown",
      "metadata": {
        "id": "xwQ_NcPRp9px"
      },
      "source": [
        "![Cover](https://raw.githubusercontent.com/crunchdao/quickstarters/refs/heads/master/competitions/broad-1/cover.jpg)"
      ]
    },
    {
      "cell_type": "code",
      "execution_count": null,
      "metadata": {
        "ExecuteTime": {
          "end_time": "2024-10-28T19:58:29.091837Z",
          "start_time": "2024-10-28T19:58:17.956941Z"
        },
        "id": "8ckYbvVKp9py"
      },
      "outputs": [],
      "source": [
        "%pip install --upgrade crunch-cli"
      ]
    },
    {
      "cell_type": "markdown",
      "metadata": {
        "id": "sLyoMDxup9pz"
      },
      "source": [
        "Get a new token: https://hub.crunchdao.com/competitions/broad-1/submit/via/notebook"
      ]
    },
    {
      "cell_type": "code",
      "execution_count": 1,
      "metadata": {
        "ExecuteTime": {
          "end_time": "2024-10-28T20:09:16.219026Z",
          "start_time": "2024-10-28T20:01:12.655472Z"
        },
        "id": "ImnyrQrep9p0"
      },
      "outputs": [
        {
          "name": "stdout",
          "output_type": "stream",
          "text": [
            "you appear to have never submitted code before\n",
            "data/DC1.zarr.zip: download from https:crunchdao--competition--production.s3.eu-west-1.amazonaws.com/data-releases/81/DC1.zarr.zip (720810785 bytes)\n",
            "data/DC1.zarr.zip: uncompress into /data/scratch/charlesxu/manoli_class/MLCB_immune/notebooks/data/DC1.zarr.zip.6q2xwqzh\n",
            "data/UC1_NI.zarr.zip: download from https:crunchdao--competition--production.s3.eu-west-1.amazonaws.com/data-releases/81/UC1_NI.zarr.zip (889729934 bytes)\n",
            "data/UC1_NI.zarr.zip: uncompress into /data/scratch/charlesxu/manoli_class/MLCB_immune/notebooks/data/UC1_NI.zarr.zip.1vjhg57z\n",
            "data/UC6_I.zarr.zip: download from https:crunchdao--competition--production.s3.eu-west-1.amazonaws.com/data-releases/81/UC6_I.zarr.zip (923581852 bytes)\n",
            "data/UC6_I.zarr.zip: uncompress into /data/scratch/charlesxu/manoli_class/MLCB_immune/notebooks/data/UC6_I.zarr.zip.0xb3qtad\n",
            "data/UC7_I.zarr.zip: download from https:crunchdao--competition--production.s3.eu-west-1.amazonaws.com/data-releases/81/UC7_I.zarr.zip (769304631 bytes)\n",
            "data/UC7_I.zarr.zip: uncompress into /data/scratch/charlesxu/manoli_class/MLCB_immune/notebooks/data/UC7_I.zarr.zip.6yr7_es_\n",
            "data/UC6_NI.zarr.zip: download from https:crunchdao--competition--production.s3.eu-west-1.amazonaws.com/data-releases/81/UC6_NI.zarr.zip (706148035 bytes)\n",
            "data/UC6_NI.zarr.zip: uncompress into /data/scratch/charlesxu/manoli_class/MLCB_immune/notebooks/data/UC6_NI.zarr.zip.2_7cqs2p\n",
            "data/UC1_I.zarr.zip: download from https:crunchdao--competition--production.s3.eu-west-1.amazonaws.com/data-releases/81/UC1_I.zarr.zip (926772130 bytes)\n",
            "data/UC1_I.zarr.zip: uncompress into /data/scratch/charlesxu/manoli_class/MLCB_immune/notebooks/data/UC1_I.zarr.zip.85xvd4c6\n",
            "data/UC9_I.zarr.zip: download from https:crunchdao--competition--production.s3.eu-west-1.amazonaws.com/data-releases/81/UC9_I.zarr.zip (927207232 bytes)\n",
            "data/UC9_I.zarr.zip: uncompress into /data/scratch/charlesxu/manoli_class/MLCB_immune/notebooks/data/UC9_I.zarr.zip._zcpjiyu\n",
            "data/DC5.zarr.zip: download from https:crunchdao--competition--production.s3.eu-west-1.amazonaws.com/data-releases/81/DC5.zarr.zip (813303073 bytes)\n",
            "data/DC5.zarr.zip: uncompress into /data/scratch/charlesxu/manoli_class/MLCB_immune/notebooks/data/DC5.zarr.zip.gfrtxfm_\n",
            "\n",
            "---\n",
            "Success! Your environment has been correctly setup.\n",
            "Next recommended actions:\n",
            " - To see all of the available commands of the CrunchDAO CLI, run: crunch --help\n"
          ]
        }
      ],
      "source": [
        "!crunch setup --notebook broad-1 imbalanced-kiwi --token imTAhDs1Q2ZzNhsY96WAsUN136AkbZOhaRjWTHWwB4DdpQAzykRWSIwAEVBQWYkq"
      ]
    },
    {
      "cell_type": "code",
      "execution_count": 7,
      "metadata": {
        "ExecuteTime": {
          "end_time": "2024-10-28T20:10:16.861852Z",
          "start_time": "2024-10-28T20:10:10.463380Z"
        },
        "id": "XXoNsN6Yp9p0"
      },
      "outputs": [
        {
          "name": "stdout",
          "output_type": "stream",
          "text": [
            "Requirement already satisfied: spatialdata in /data/scratch/charlesxu/miniconda3/lib/python3.12/site-packages (0.2.3)\n",
            "Requirement already satisfied: anndata>=0.9.1 in /data/scratch/charlesxu/miniconda3/lib/python3.12/site-packages (from spatialdata) (0.10.9)\n",
            "Requirement already satisfied: click in /data/scratch/charlesxu/miniconda3/lib/python3.12/site-packages (from spatialdata) (8.1.7)\n",
            "Requirement already satisfied: dask-image in /data/scratch/charlesxu/miniconda3/lib/python3.12/site-packages (from spatialdata) (2024.5.3)\n",
            "Requirement already satisfied: dask>=2024.4.1 in /data/scratch/charlesxu/miniconda3/lib/python3.12/site-packages (from spatialdata) (2024.10.0)\n",
            "Requirement already satisfied: fsspec<=2023.6 in /data/scratch/charlesxu/miniconda3/lib/python3.12/site-packages (from spatialdata) (2023.6.0)\n",
            "Requirement already satisfied: geopandas>=0.14 in /data/scratch/charlesxu/miniconda3/lib/python3.12/site-packages (from spatialdata) (1.0.1)\n",
            "Requirement already satisfied: multiscale-spatial-image>=1.0.0 in /data/scratch/charlesxu/miniconda3/lib/python3.12/site-packages (from spatialdata) (1.0.1)\n",
            "Requirement already satisfied: networkx in /data/scratch/charlesxu/miniconda3/lib/python3.12/site-packages (from spatialdata) (3.4.2)\n",
            "Requirement already satisfied: numpy in /data/scratch/charlesxu/miniconda3/lib/python3.12/site-packages (from spatialdata) (1.26.4)\n",
            "Requirement already satisfied: ome-zarr>=0.8.4 in /data/scratch/charlesxu/miniconda3/lib/python3.12/site-packages (from spatialdata) (0.9.0)\n",
            "Requirement already satisfied: pandas in /data/scratch/charlesxu/miniconda3/lib/python3.12/site-packages (from spatialdata) (2.2.3)\n",
            "Requirement already satisfied: pooch in /data/scratch/charlesxu/miniconda3/lib/python3.12/site-packages (from spatialdata) (1.8.2)\n",
            "Requirement already satisfied: pyarrow in /data/scratch/charlesxu/miniconda3/lib/python3.12/site-packages (from spatialdata) (18.0.0)\n",
            "Requirement already satisfied: rich in /data/scratch/charlesxu/miniconda3/lib/python3.12/site-packages (from spatialdata) (13.9.4)\n",
            "Requirement already satisfied: scikit-image in /data/scratch/charlesxu/miniconda3/lib/python3.12/site-packages (from spatialdata) (0.24.0)\n",
            "Requirement already satisfied: scipy in /data/scratch/charlesxu/miniconda3/lib/python3.12/site-packages (from spatialdata) (1.14.1)\n",
            "Requirement already satisfied: setuptools in /data/scratch/charlesxu/miniconda3/lib/python3.12/site-packages (from spatialdata) (72.1.0)\n",
            "Requirement already satisfied: shapely>=2.0.1 in /data/scratch/charlesxu/miniconda3/lib/python3.12/site-packages (from spatialdata) (2.0.6)\n",
            "Requirement already satisfied: spatial-image>=1.0.0 in /data/scratch/charlesxu/miniconda3/lib/python3.12/site-packages (from spatialdata) (1.1.0)\n",
            "Requirement already satisfied: typing-extensions>=4.8.0 in /data/scratch/charlesxu/miniconda3/lib/python3.12/site-packages (from spatialdata) (4.12.2)\n",
            "Requirement already satisfied: xarray in /data/scratch/charlesxu/miniconda3/lib/python3.12/site-packages (from spatialdata) (2024.7.0)\n",
            "Requirement already satisfied: xarray-datatree in /data/scratch/charlesxu/miniconda3/lib/python3.12/site-packages (from spatialdata) (0.0.15)\n",
            "Requirement already satisfied: xarray-schema in /data/scratch/charlesxu/miniconda3/lib/python3.12/site-packages (from spatialdata) (0.0.3)\n",
            "Requirement already satisfied: xarray-spatial>=0.3.5 in /data/scratch/charlesxu/miniconda3/lib/python3.12/site-packages (from spatialdata) (0.4.0)\n",
            "Requirement already satisfied: zarr in /data/scratch/charlesxu/miniconda3/lib/python3.12/site-packages (from spatialdata) (2.18.3)\n",
            "Requirement already satisfied: array-api-compat!=1.5,>1.4 in /data/scratch/charlesxu/miniconda3/lib/python3.12/site-packages (from anndata>=0.9.1->spatialdata) (1.9)\n",
            "Requirement already satisfied: h5py>=3.1 in /data/scratch/charlesxu/miniconda3/lib/python3.12/site-packages (from anndata>=0.9.1->spatialdata) (3.12.1)\n",
            "Requirement already satisfied: natsort in /data/scratch/charlesxu/miniconda3/lib/python3.12/site-packages (from anndata>=0.9.1->spatialdata) (8.4.0)\n",
            "Requirement already satisfied: packaging>=20.0 in /data/scratch/charlesxu/miniconda3/lib/python3.12/site-packages (from anndata>=0.9.1->spatialdata) (24.1)\n",
            "Requirement already satisfied: cloudpickle>=3.0.0 in /data/scratch/charlesxu/miniconda3/lib/python3.12/site-packages (from dask>=2024.4.1->spatialdata) (3.1.0)\n",
            "Requirement already satisfied: partd>=1.4.0 in /data/scratch/charlesxu/miniconda3/lib/python3.12/site-packages (from dask>=2024.4.1->spatialdata) (1.4.2)\n",
            "Requirement already satisfied: pyyaml>=5.3.1 in /data/scratch/charlesxu/miniconda3/lib/python3.12/site-packages (from dask>=2024.4.1->spatialdata) (6.0.2)\n",
            "Requirement already satisfied: toolz>=0.10.0 in /data/scratch/charlesxu/miniconda3/lib/python3.12/site-packages (from dask>=2024.4.1->spatialdata) (1.0.0)\n",
            "Requirement already satisfied: pyogrio>=0.7.2 in /data/scratch/charlesxu/miniconda3/lib/python3.12/site-packages (from geopandas>=0.14->spatialdata) (0.10.0)\n",
            "Requirement already satisfied: pyproj>=3.3.0 in /data/scratch/charlesxu/miniconda3/lib/python3.12/site-packages (from geopandas>=0.14->spatialdata) (3.7.0)\n",
            "Requirement already satisfied: python-dateutil in /data/scratch/charlesxu/miniconda3/lib/python3.12/site-packages (from multiscale-spatial-image>=1.0.0->spatialdata) (2.9.0.post0)\n",
            "Requirement already satisfied: aiohttp<4 in /data/scratch/charlesxu/miniconda3/lib/python3.12/site-packages (from ome-zarr>=0.8.4->spatialdata) (3.10.10)\n",
            "Requirement already satisfied: distributed in /data/scratch/charlesxu/miniconda3/lib/python3.12/site-packages (from ome-zarr>=0.8.4->spatialdata) (2024.10.0)\n",
            "Requirement already satisfied: requests in /data/scratch/charlesxu/miniconda3/lib/python3.12/site-packages (from ome-zarr>=0.8.4->spatialdata) (2.32.3)\n",
            "Requirement already satisfied: pytz>=2020.1 in /data/scratch/charlesxu/miniconda3/lib/python3.12/site-packages (from pandas->spatialdata) (2024.2)\n",
            "Requirement already satisfied: tzdata>=2022.7 in /data/scratch/charlesxu/miniconda3/lib/python3.12/site-packages (from pandas->spatialdata) (2024.2)\n",
            "Requirement already satisfied: xarray-dataclasses>=1.1.0 in /data/scratch/charlesxu/miniconda3/lib/python3.12/site-packages (from spatial-image>=1.0.0->spatialdata) (1.8.0)\n",
            "Requirement already satisfied: datashader>=0.15.0 in /data/scratch/charlesxu/miniconda3/lib/python3.12/site-packages (from xarray-spatial>=0.3.5->spatialdata) (0.16.3)\n",
            "Requirement already satisfied: numba in /data/scratch/charlesxu/miniconda3/lib/python3.12/site-packages (from xarray-spatial>=0.3.5->spatialdata) (0.60.0)\n",
            "Requirement already satisfied: asciitree in /data/scratch/charlesxu/miniconda3/lib/python3.12/site-packages (from zarr->spatialdata) (0.3.3)\n",
            "Requirement already satisfied: numcodecs>=0.10.0 in /data/scratch/charlesxu/miniconda3/lib/python3.12/site-packages (from zarr->spatialdata) (0.13.1)\n",
            "Requirement already satisfied: fasteners in /data/scratch/charlesxu/miniconda3/lib/python3.12/site-packages (from zarr->spatialdata) (0.19)\n",
            "Requirement already satisfied: pims>=0.4.1 in /data/scratch/charlesxu/miniconda3/lib/python3.12/site-packages (from dask-image->spatialdata) (0.7)\n",
            "Requirement already satisfied: tifffile>=2018.10.18 in /data/scratch/charlesxu/miniconda3/lib/python3.12/site-packages (from dask-image->spatialdata) (2024.9.20)\n",
            "Requirement already satisfied: platformdirs>=2.5.0 in /data/scratch/charlesxu/miniconda3/lib/python3.12/site-packages (from pooch->spatialdata) (3.10.0)\n",
            "Requirement already satisfied: markdown-it-py>=2.2.0 in /data/scratch/charlesxu/miniconda3/lib/python3.12/site-packages (from rich->spatialdata) (3.0.0)\n",
            "Requirement already satisfied: pygments<3.0.0,>=2.13.0 in /data/scratch/charlesxu/miniconda3/lib/python3.12/site-packages (from rich->spatialdata) (2.18.0)\n",
            "Requirement already satisfied: pillow>=9.1 in /data/scratch/charlesxu/miniconda3/lib/python3.12/site-packages (from scikit-image->spatialdata) (11.0.0)\n",
            "Requirement already satisfied: imageio>=2.33 in /data/scratch/charlesxu/miniconda3/lib/python3.12/site-packages (from scikit-image->spatialdata) (2.36.0)\n",
            "Requirement already satisfied: lazy-loader>=0.4 in /data/scratch/charlesxu/miniconda3/lib/python3.12/site-packages (from scikit-image->spatialdata) (0.4)\n",
            "Requirement already satisfied: aiohappyeyeballs>=2.3.0 in /data/scratch/charlesxu/miniconda3/lib/python3.12/site-packages (from aiohttp<4->ome-zarr>=0.8.4->spatialdata) (2.4.3)\n",
            "Requirement already satisfied: aiosignal>=1.1.2 in /data/scratch/charlesxu/miniconda3/lib/python3.12/site-packages (from aiohttp<4->ome-zarr>=0.8.4->spatialdata) (1.3.1)\n",
            "Requirement already satisfied: attrs>=17.3.0 in /data/scratch/charlesxu/miniconda3/lib/python3.12/site-packages (from aiohttp<4->ome-zarr>=0.8.4->spatialdata) (24.2.0)\n",
            "Requirement already satisfied: frozenlist>=1.1.1 in /data/scratch/charlesxu/miniconda3/lib/python3.12/site-packages (from aiohttp<4->ome-zarr>=0.8.4->spatialdata) (1.5.0)\n",
            "Requirement already satisfied: multidict<7.0,>=4.5 in /data/scratch/charlesxu/miniconda3/lib/python3.12/site-packages (from aiohttp<4->ome-zarr>=0.8.4->spatialdata) (6.1.0)\n",
            "Requirement already satisfied: yarl<2.0,>=1.12.0 in /data/scratch/charlesxu/miniconda3/lib/python3.12/site-packages (from aiohttp<4->ome-zarr>=0.8.4->spatialdata) (1.17.1)\n",
            "Requirement already satisfied: dask-expr<1.2,>=1.1 in /data/scratch/charlesxu/miniconda3/lib/python3.12/site-packages (from dask[array,dataframe]>=2024.4.1->dask-image->spatialdata) (1.1.16)\n",
            "Requirement already satisfied: colorcet in /data/scratch/charlesxu/miniconda3/lib/python3.12/site-packages (from datashader>=0.15.0->xarray-spatial>=0.3.5->spatialdata) (3.1.0)\n",
            "Requirement already satisfied: multipledispatch in /data/scratch/charlesxu/miniconda3/lib/python3.12/site-packages (from datashader>=0.15.0->xarray-spatial>=0.3.5->spatialdata) (1.0.0)\n",
            "Requirement already satisfied: param in /data/scratch/charlesxu/miniconda3/lib/python3.12/site-packages (from datashader>=0.15.0->xarray-spatial>=0.3.5->spatialdata) (2.1.1)\n",
            "Requirement already satisfied: pyct in /data/scratch/charlesxu/miniconda3/lib/python3.12/site-packages (from datashader>=0.15.0->xarray-spatial>=0.3.5->spatialdata) (0.5.0)\n",
            "Requirement already satisfied: s3fs in /data/scratch/charlesxu/miniconda3/lib/python3.12/site-packages (from fsspec[s3]!=2021.07.0,>=0.8->ome-zarr>=0.8.4->spatialdata) (2023.6.0)\n",
            "Requirement already satisfied: mdurl~=0.1 in /data/scratch/charlesxu/miniconda3/lib/python3.12/site-packages (from markdown-it-py>=2.2.0->rich->spatialdata) (0.1.2)\n",
            "Requirement already satisfied: locket in /data/scratch/charlesxu/miniconda3/lib/python3.12/site-packages (from partd>=1.4.0->dask>=2024.4.1->spatialdata) (1.0.0)\n",
            "Requirement already satisfied: slicerator>=0.9.8 in /data/scratch/charlesxu/miniconda3/lib/python3.12/site-packages (from pims>=0.4.1->dask-image->spatialdata) (1.1.0)\n",
            "Requirement already satisfied: certifi in /data/scratch/charlesxu/miniconda3/lib/python3.12/site-packages (from pyogrio>=0.7.2->geopandas>=0.14->spatialdata) (2024.7.4)\n",
            "Requirement already satisfied: six>=1.5 in /data/scratch/charlesxu/miniconda3/lib/python3.12/site-packages (from python-dateutil->multiscale-spatial-image>=1.0.0->spatialdata) (1.16.0)\n",
            "Requirement already satisfied: charset-normalizer<4,>=2 in /data/scratch/charlesxu/miniconda3/lib/python3.12/site-packages (from requests->ome-zarr>=0.8.4->spatialdata) (3.3.2)\n",
            "Requirement already satisfied: idna<4,>=2.5 in /data/scratch/charlesxu/miniconda3/lib/python3.12/site-packages (from requests->ome-zarr>=0.8.4->spatialdata) (3.7)\n",
            "Requirement already satisfied: urllib3<3,>=1.21.1 in /data/scratch/charlesxu/miniconda3/lib/python3.12/site-packages (from requests->ome-zarr>=0.8.4->spatialdata) (1.26.20)\n",
            "Requirement already satisfied: jinja2>=2.10.3 in /data/scratch/charlesxu/miniconda3/lib/python3.12/site-packages (from distributed->ome-zarr>=0.8.4->spatialdata) (3.1.4)\n",
            "Requirement already satisfied: msgpack>=1.0.2 in /data/scratch/charlesxu/miniconda3/lib/python3.12/site-packages (from distributed->ome-zarr>=0.8.4->spatialdata) (1.1.0)\n",
            "Requirement already satisfied: psutil>=5.8.0 in /data/scratch/charlesxu/miniconda3/lib/python3.12/site-packages (from distributed->ome-zarr>=0.8.4->spatialdata) (6.1.0)\n",
            "Requirement already satisfied: sortedcontainers>=2.0.5 in /data/scratch/charlesxu/miniconda3/lib/python3.12/site-packages (from distributed->ome-zarr>=0.8.4->spatialdata) (2.4.0)\n",
            "Requirement already satisfied: tblib>=1.6.0 in /data/scratch/charlesxu/miniconda3/lib/python3.12/site-packages (from distributed->ome-zarr>=0.8.4->spatialdata) (3.0.0)\n",
            "Requirement already satisfied: tornado>=6.2.0 in /data/scratch/charlesxu/miniconda3/lib/python3.12/site-packages (from distributed->ome-zarr>=0.8.4->spatialdata) (6.4.1)\n",
            "Requirement already satisfied: zict>=3.0.0 in /data/scratch/charlesxu/miniconda3/lib/python3.12/site-packages (from distributed->ome-zarr>=0.8.4->spatialdata) (3.0.0)\n",
            "Requirement already satisfied: llvmlite<0.44,>=0.43.0dev0 in /data/scratch/charlesxu/miniconda3/lib/python3.12/site-packages (from numba->xarray-spatial>=0.3.5->spatialdata) (0.43.0)\n",
            "Requirement already satisfied: MarkupSafe>=2.0 in /data/scratch/charlesxu/miniconda3/lib/python3.12/site-packages (from jinja2>=2.10.3->distributed->ome-zarr>=0.8.4->spatialdata) (3.0.2)\n",
            "Requirement already satisfied: propcache>=0.2.0 in /data/scratch/charlesxu/miniconda3/lib/python3.12/site-packages (from yarl<2.0,>=1.12.0->aiohttp<4->ome-zarr>=0.8.4->spatialdata) (0.2.0)\n",
            "Requirement already satisfied: aiobotocore~=2.5.0 in /data/scratch/charlesxu/miniconda3/lib/python3.12/site-packages (from s3fs->fsspec[s3]!=2021.07.0,>=0.8->ome-zarr>=0.8.4->spatialdata) (2.5.4)\n",
            "Requirement already satisfied: botocore<1.31.18,>=1.31.17 in /data/scratch/charlesxu/miniconda3/lib/python3.12/site-packages (from aiobotocore~=2.5.0->s3fs->fsspec[s3]!=2021.07.0,>=0.8->ome-zarr>=0.8.4->spatialdata) (1.31.17)\n",
            "Requirement already satisfied: wrapt<2.0.0,>=1.10.10 in /data/scratch/charlesxu/miniconda3/lib/python3.12/site-packages (from aiobotocore~=2.5.0->s3fs->fsspec[s3]!=2021.07.0,>=0.8->ome-zarr>=0.8.4->spatialdata) (1.16.0)\n",
            "Requirement already satisfied: aioitertools<1.0.0,>=0.5.1 in /data/scratch/charlesxu/miniconda3/lib/python3.12/site-packages (from aiobotocore~=2.5.0->s3fs->fsspec[s3]!=2021.07.0,>=0.8->ome-zarr>=0.8.4->spatialdata) (0.12.0)\n",
            "Requirement already satisfied: jmespath<2.0.0,>=0.7.1 in /data/scratch/charlesxu/miniconda3/lib/python3.12/site-packages (from botocore<1.31.18,>=1.31.17->aiobotocore~=2.5.0->s3fs->fsspec[s3]!=2021.07.0,>=0.8->ome-zarr>=0.8.4->spatialdata) (1.0.1)\n"
          ]
        }
      ],
      "source": [
        "!pip install spatialdata"
      ]
    },
    {
      "cell_type": "code",
      "execution_count": 1,
      "metadata": {
        "ExecuteTime": {
          "end_time": "2024-10-28T20:12:18.447106Z",
          "start_time": "2024-10-28T20:11:44.024001Z"
        },
        "id": "T5v_Ve0zp9p2"
      },
      "outputs": [],
      "source": [
        "import itertools\n",
        "\n",
        "import numpy\n",
        "import pandas\n",
        "import spatialdata"
      ]
    },
    {
      "cell_type": "code",
      "execution_count": 2,
      "metadata": {
        "ExecuteTime": {
          "end_time": "2024-10-28T20:13:12.168568Z",
          "start_time": "2024-10-28T20:13:11.467039Z"
        },
        "id": "WcNUnhTop9p2",
        "outputId": "f8d66de8-9442-455b-ac2a-788bdfaa8851"
      },
      "outputs": [
        {
          "name": "stdout",
          "output_type": "stream",
          "text": [
            "loaded inline runner with module: <module '__main__'>\n"
          ]
        }
      ],
      "source": [
        "import crunch\n",
        "crunch = crunch.load_notebook()"
      ]
    },
    {
      "cell_type": "code",
      "execution_count": 3,
      "metadata": {
        "ExecuteTime": {
          "end_time": "2024-10-28T20:12:44.782263Z",
          "start_time": "2024-10-28T20:12:44.773022Z"
        },
        "id": "7N4_cgQPp9p4"
      },
      "outputs": [],
      "source": [
        "# In the training function, users build and train the model to make inferences on the test data.\n",
        "# Your model must be stored in the resources/ directory.\n",
        "def train(\n",
        "    train_directory_path: str\n",
        "):\n",
        "    # no train\n",
        "    print(train_directory_path)"
      ]
    },
    {
      "cell_type": "code",
      "execution_count": 4,
      "metadata": {
        "ExecuteTime": {
          "end_time": "2024-10-28T20:12:50.292239Z",
          "start_time": "2024-10-28T20:12:50.279737Z"
        },
        "id": "FovjIkUBp9p6"
      },
      "outputs": [],
      "source": [
        "# In the inference function, the trained model is loaded and used to make inferences on a\n",
        "# sample of data that matches the characteristics of the training test.\n",
        "def infer(\n",
        "    data_file_path: str,\n",
        "):\n",
        "    print(data_file_path)\n",
        "\n",
        "    sdata = spatialdata.read_zarr(data_file_path)\n",
        "\n",
        "    cell_ids = sdata[\"cell_id-group\"].obs.query(\"group == 'test' or group == 'validation'\")[\"cell_id\"]\n",
        "    gene_names = sdata[\"anucleus\"].var.index\n",
        "\n",
        "    prediction = pandas.DataFrame(\n",
        "        itertools.product(cell_ids, gene_names),\n",
        "        columns=[\"cell_id\", \"gene\"]\n",
        "    )\n",
        "\n",
        "    prediction[\"prediction\"] = numpy.random.random(len(prediction))\n",
        "\n",
        "    return prediction"
      ]
    },
    {
      "cell_type": "code",
      "execution_count": 5,
      "metadata": {
        "ExecuteTime": {
          "end_time": "2024-10-28T20:31:13.603305Z",
          "start_time": "2024-10-28T20:13:17.622508Z"
        },
        "id": "zb-wungip9p7"
      },
      "outputs": [
        {
          "name": "stderr",
          "output_type": "stream",
          "text": [
            "10:50:08 no forbidden library found\n",
            "10:50:08 \n",
            "10:50:08 started\n",
            "10:50:08 running local test\n",
            "10:50:08 internet access isn't restricted, no check will be done\n",
            "10:50:08 \n",
            "10:50:10 starting spatial loop...\n",
            "10:50:10 call: train\n",
            "10:50:10 train: unknown parameter: train_directory_path\n",
            "10:50:10 looping target=`DC1` (1/8)\n",
            "10:50:10 call: infer (DC1)\n",
            "10:50:10 root_attr: multiscales\n",
            "10:50:10 root_attr: omero\n",
            "10:50:10 root_attr: spatialdata_attrs\n",
            "10:50:10 datasets [{'coordinateTransformations': [{'scale': [1.0, 1.0, 1.0], 'type': 'scale'}], 'path': '0'}]\n",
            "/data/scratch/charlesxu/miniconda3/envs/immune/lib/python3.10/site-packages/zarr/creation.py:614: UserWarning: ignoring keyword argument 'read_only'\n",
            "  compressor, fill_value = _kwargs_compat(compressor, fill_value, kwargs)\n",
            "10:50:10 resolution: 0\n",
            "10:50:10  - shape ('c', 'y', 'x') = (1, 17000, 22000)\n",
            "10:50:10  - chunks =  ['1', '5792 (+ 5416)', '5792 (+ 4624)']\n",
            "10:50:10  - dtype = uint32\n",
            "10:50:10 root_attr: multiscales\n",
            "10:50:10 root_attr: omero\n",
            "10:50:10 root_attr: spatialdata_attrs\n",
            "10:50:10 root_attr: multiscales\n",
            "10:50:10 root_attr: omero\n",
            "10:50:10 root_attr: spatialdata_attrs\n",
            "10:50:10 datasets [{'coordinateTransformations': [{'scale': [1.0, 1.0, 1.0], 'type': 'scale'}], 'path': '0'}]\n",
            "10:50:10 resolution: 0\n",
            "10:50:10  - shape ('c', 'y', 'x') = (3, 17000, 22000)\n",
            "10:50:10  - chunks =  ['3', '6688 (+ 3624)', '6688 (+ 1936)']\n",
            "10:50:10  - dtype = uint8\n",
            "10:50:10 root_attr: multiscales\n",
            "10:50:10 root_attr: omero\n",
            "10:50:10 root_attr: spatialdata_attrs\n"
          ]
        },
        {
          "name": "stdout",
          "output_type": "stream",
          "text": [
            "data/DC1.zarr.zip: download from https:crunchdao--competition--production.s3.eu-west-1.amazonaws.com/data-releases/81/DC1.zarr.zip (720810785 bytes)\n",
            "data/DC1.zarr.zip: already exists, file length match\n",
            "data/DC1.zarr.zip: already uncompressed, marker is present\n",
            "data/UC1_NI.zarr.zip: download from https:crunchdao--competition--production.s3.eu-west-1.amazonaws.com/data-releases/81/UC1_NI.zarr.zip (889729934 bytes)\n",
            "data/UC1_NI.zarr.zip: already exists, file length match\n",
            "data/UC1_NI.zarr.zip: already uncompressed, marker is present\n",
            "data/UC6_I.zarr.zip: download from https:crunchdao--competition--production.s3.eu-west-1.amazonaws.com/data-releases/81/UC6_I.zarr.zip (923581852 bytes)\n",
            "data/UC6_I.zarr.zip: already exists, file length match\n",
            "data/UC6_I.zarr.zip: already uncompressed, marker is present\n",
            "data/UC7_I.zarr.zip: download from https:crunchdao--competition--production.s3.eu-west-1.amazonaws.com/data-releases/81/UC7_I.zarr.zip (769304631 bytes)\n",
            "data/UC7_I.zarr.zip: already exists, file length match\n",
            "data/UC7_I.zarr.zip: already uncompressed, marker is present\n",
            "data/UC6_NI.zarr.zip: download from https:crunchdao--competition--production.s3.eu-west-1.amazonaws.com/data-releases/81/UC6_NI.zarr.zip (706148035 bytes)\n",
            "data/UC6_NI.zarr.zip: already exists, file length match\n",
            "data/UC6_NI.zarr.zip: already uncompressed, marker is present\n",
            "data/UC1_I.zarr.zip: download from https:crunchdao--competition--production.s3.eu-west-1.amazonaws.com/data-releases/81/UC1_I.zarr.zip (926772130 bytes)\n",
            "data/UC1_I.zarr.zip: already exists, file length match\n",
            "data/UC1_I.zarr.zip: already uncompressed, marker is present\n",
            "data/UC9_I.zarr.zip: download from https:crunchdao--competition--production.s3.eu-west-1.amazonaws.com/data-releases/81/UC9_I.zarr.zip (927207232 bytes)\n",
            "data/UC9_I.zarr.zip: already exists, file length match\n",
            "data/UC9_I.zarr.zip: already uncompressed, marker is present\n",
            "data/DC5.zarr.zip: download from https:crunchdao--competition--production.s3.eu-west-1.amazonaws.com/data-releases/81/DC5.zarr.zip (813303073 bytes)\n",
            "data/DC5.zarr.zip: already exists, file length match\n",
            "data/DC5.zarr.zip: already uncompressed, marker is present\n",
            "None\n",
            "data/DC1.zarr\n"
          ]
        },
        {
          "name": "stderr",
          "output_type": "stream",
          "text": [
            "10:50:15 looping target=`DC5` (2/8)\n",
            "10:50:15 call: infer (DC5)\n",
            "10:50:15 root_attr: multiscales\n",
            "10:50:15 root_attr: omero\n",
            "10:50:15 root_attr: spatialdata_attrs\n",
            "10:50:15 datasets [{'coordinateTransformations': [{'scale': [1.0, 1.0, 1.0], 'type': 'scale'}], 'path': '0'}]\n",
            "/data/scratch/charlesxu/miniconda3/envs/immune/lib/python3.10/site-packages/zarr/creation.py:614: UserWarning: ignoring keyword argument 'read_only'\n",
            "  compressor, fill_value = _kwargs_compat(compressor, fill_value, kwargs)\n",
            "10:50:15 resolution: 0\n",
            "10:50:15  - shape ('c', 'y', 'x') = (1, 18000, 22000)\n",
            "10:50:15  - chunks =  ['1', '5792 (+ 624)', '5792 (+ 4624)']\n",
            "10:50:15  - dtype = uint32\n",
            "10:50:15 root_attr: multiscales\n",
            "10:50:15 root_attr: omero\n",
            "10:50:15 root_attr: spatialdata_attrs\n",
            "10:50:15 root_attr: multiscales\n",
            "10:50:15 root_attr: omero\n",
            "10:50:15 root_attr: spatialdata_attrs\n",
            "10:50:15 datasets [{'coordinateTransformations': [{'scale': [1.0, 1.0, 1.0], 'type': 'scale'}], 'path': '0'}]\n",
            "10:50:15 resolution: 0\n",
            "10:50:15  - shape ('c', 'y', 'x') = (3, 18000, 22000)\n",
            "10:50:15  - chunks =  ['3', '6688 (+ 4624)', '6688 (+ 1936)']\n",
            "10:50:15  - dtype = uint8\n",
            "10:50:15 root_attr: multiscales\n",
            "10:50:15 root_attr: omero\n",
            "10:50:15 root_attr: spatialdata_attrs\n"
          ]
        },
        {
          "name": "stdout",
          "output_type": "stream",
          "text": [
            "data/DC5.zarr\n"
          ]
        },
        {
          "name": "stderr",
          "output_type": "stream",
          "text": [
            "10:50:21 looping target=`UC1_I` (3/8)\n",
            "10:50:21 call: infer (UC1_I)\n",
            "10:50:21 root_attr: multiscales\n",
            "10:50:21 root_attr: omero\n",
            "10:50:21 root_attr: spatialdata_attrs\n",
            "10:50:21 datasets [{'coordinateTransformations': [{'scale': [1.0, 1.0, 1.0], 'type': 'scale'}], 'path': '0'}]\n",
            "/data/scratch/charlesxu/miniconda3/envs/immune/lib/python3.10/site-packages/zarr/creation.py:614: UserWarning: ignoring keyword argument 'read_only'\n",
            "  compressor, fill_value = _kwargs_compat(compressor, fill_value, kwargs)\n",
            "10:50:21 resolution: 0\n",
            "10:50:21  - shape ('c', 'y', 'x') = (1, 20000, 22000)\n",
            "10:50:21  - chunks =  ['1', '5792 (+ 2624)', '5792 (+ 4624)']\n",
            "10:50:21  - dtype = uint32\n",
            "10:50:21 root_attr: multiscales\n",
            "10:50:21 root_attr: omero\n",
            "10:50:21 root_attr: spatialdata_attrs\n",
            "10:50:22 root_attr: multiscales\n",
            "10:50:22 root_attr: omero\n",
            "10:50:22 root_attr: spatialdata_attrs\n",
            "10:50:22 datasets [{'coordinateTransformations': [{'scale': [1.0, 1.0, 1.0], 'type': 'scale'}], 'path': '0'}]\n",
            "10:50:22 resolution: 0\n",
            "10:50:22  - shape ('c', 'y', 'x') = (3, 20000, 22000)\n",
            "10:50:22  - chunks =  ['3', '6688 (+ 6624)', '6688 (+ 1936)']\n",
            "10:50:22  - dtype = uint8\n",
            "10:50:22 root_attr: multiscales\n",
            "10:50:22 root_attr: omero\n",
            "10:50:22 root_attr: spatialdata_attrs\n"
          ]
        },
        {
          "name": "stdout",
          "output_type": "stream",
          "text": [
            "data/UC1_I.zarr\n"
          ]
        },
        {
          "name": "stderr",
          "output_type": "stream",
          "text": [
            "10:50:30 looping target=`UC1_NI` (4/8)\n",
            "10:50:30 call: infer (UC1_NI)\n",
            "10:50:30 root_attr: multiscales\n",
            "10:50:30 root_attr: omero\n",
            "10:50:30 root_attr: spatialdata_attrs\n",
            "10:50:30 datasets [{'coordinateTransformations': [{'scale': [1.0, 1.0, 1.0], 'type': 'scale'}], 'path': '0'}]\n",
            "/data/scratch/charlesxu/miniconda3/envs/immune/lib/python3.10/site-packages/zarr/creation.py:614: UserWarning: ignoring keyword argument 'read_only'\n",
            "  compressor, fill_value = _kwargs_compat(compressor, fill_value, kwargs)\n",
            "10:50:30 resolution: 0\n",
            "10:50:30  - shape ('c', 'y', 'x') = (1, 21000, 22000)\n",
            "10:50:30  - chunks =  ['1', '5792 (+ 3624)', '5792 (+ 4624)']\n",
            "10:50:30  - dtype = uint32\n",
            "10:50:30 root_attr: multiscales\n",
            "10:50:30 root_attr: omero\n",
            "10:50:30 root_attr: spatialdata_attrs\n",
            "10:50:30 root_attr: multiscales\n",
            "10:50:30 root_attr: omero\n",
            "10:50:30 root_attr: spatialdata_attrs\n",
            "10:50:30 datasets [{'coordinateTransformations': [{'scale': [1.0, 1.0, 1.0], 'type': 'scale'}], 'path': '0'}]\n",
            "10:50:30 resolution: 0\n",
            "10:50:30  - shape ('c', 'y', 'x') = (3, 21000, 22000)\n",
            "10:50:30  - chunks =  ['3', '6688 (+ 936)', '6688 (+ 1936)']\n",
            "10:50:30  - dtype = uint8\n",
            "10:50:30 root_attr: multiscales\n",
            "10:50:30 root_attr: omero\n",
            "10:50:30 root_attr: spatialdata_attrs\n"
          ]
        },
        {
          "name": "stdout",
          "output_type": "stream",
          "text": [
            "data/UC1_NI.zarr\n"
          ]
        },
        {
          "name": "stderr",
          "output_type": "stream",
          "text": [
            "10:50:34 looping target=`UC6_I` (5/8)\n",
            "10:50:34 call: infer (UC6_I)\n",
            "10:50:34 root_attr: multiscales\n",
            "10:50:34 root_attr: omero\n",
            "10:50:34 root_attr: spatialdata_attrs\n",
            "10:50:34 datasets [{'coordinateTransformations': [{'scale': [1.0, 1.0, 1.0], 'type': 'scale'}], 'path': '0'}]\n",
            "/data/scratch/charlesxu/miniconda3/envs/immune/lib/python3.10/site-packages/zarr/creation.py:614: UserWarning: ignoring keyword argument 'read_only'\n",
            "  compressor, fill_value = _kwargs_compat(compressor, fill_value, kwargs)\n",
            "10:50:34 resolution: 0\n",
            "10:50:34  - shape ('c', 'y', 'x') = (1, 20000, 20992)\n",
            "10:50:34  - chunks =  ['1', '5792 (+ 2624)', '5792 (+ 3616)']\n",
            "10:50:34  - dtype = uint32\n",
            "10:50:34 root_attr: multiscales\n",
            "10:50:34 root_attr: omero\n",
            "10:50:34 root_attr: spatialdata_attrs\n",
            "10:50:34 root_attr: multiscales\n",
            "10:50:34 root_attr: omero\n",
            "10:50:34 root_attr: spatialdata_attrs\n",
            "10:50:34 datasets [{'coordinateTransformations': [{'scale': [1.0, 1.0, 1.0], 'type': 'scale'}], 'path': '0'}]\n",
            "10:50:34 resolution: 0\n",
            "10:50:34  - shape ('c', 'y', 'x') = (3, 20000, 20992)\n",
            "10:50:34  - chunks =  ['3', '6688 (+ 6624)', '6688 (+ 928)']\n",
            "10:50:34  - dtype = uint8\n",
            "10:50:34 root_attr: multiscales\n",
            "10:50:34 root_attr: omero\n",
            "10:50:34 root_attr: spatialdata_attrs\n"
          ]
        },
        {
          "name": "stdout",
          "output_type": "stream",
          "text": [
            "data/UC6_I.zarr\n"
          ]
        },
        {
          "name": "stderr",
          "output_type": "stream",
          "text": [
            "10:50:50 looping target=`UC6_NI` (6/8)\n",
            "10:50:50 call: infer (UC6_NI)\n",
            "10:50:50 root_attr: multiscales\n",
            "10:50:50 root_attr: omero\n",
            "10:50:50 root_attr: spatialdata_attrs\n",
            "10:50:50 datasets [{'coordinateTransformations': [{'scale': [1.0, 1.0, 1.0], 'type': 'scale'}], 'path': '0'}]\n",
            "/data/scratch/charlesxu/miniconda3/envs/immune/lib/python3.10/site-packages/zarr/creation.py:614: UserWarning: ignoring keyword argument 'read_only'\n",
            "  compressor, fill_value = _kwargs_compat(compressor, fill_value, kwargs)\n",
            "10:50:50 resolution: 0\n",
            "10:50:50  - shape ('c', 'y', 'x') = (1, 17000, 21000)\n",
            "10:50:50  - chunks =  ['1', '5792 (+ 5416)', '5792 (+ 3624)']\n",
            "10:50:50  - dtype = uint32\n",
            "10:50:50 root_attr: multiscales\n",
            "10:50:50 root_attr: omero\n",
            "10:50:50 root_attr: spatialdata_attrs\n",
            "10:50:50 root_attr: multiscales\n",
            "10:50:50 root_attr: omero\n",
            "10:50:50 root_attr: spatialdata_attrs\n",
            "10:50:50 datasets [{'coordinateTransformations': [{'scale': [1.0, 1.0, 1.0], 'type': 'scale'}], 'path': '0'}]\n",
            "10:50:50 resolution: 0\n",
            "10:50:50  - shape ('c', 'y', 'x') = (3, 17000, 21000)\n",
            "10:50:50  - chunks =  ['3', '6688 (+ 3624)', '6688 (+ 936)']\n",
            "10:50:50  - dtype = uint8\n",
            "10:50:50 root_attr: multiscales\n",
            "10:50:50 root_attr: omero\n",
            "10:50:50 root_attr: spatialdata_attrs\n"
          ]
        },
        {
          "name": "stdout",
          "output_type": "stream",
          "text": [
            "data/UC6_NI.zarr\n"
          ]
        },
        {
          "name": "stderr",
          "output_type": "stream",
          "text": [
            "10:50:55 looping target=`UC7_I` (7/8)\n",
            "10:50:55 call: infer (UC7_I)\n",
            "10:50:55 root_attr: multiscales\n",
            "10:50:55 root_attr: omero\n",
            "10:50:55 root_attr: spatialdata_attrs\n",
            "10:50:55 datasets [{'coordinateTransformations': [{'scale': [1.0, 1.0, 1.0], 'type': 'scale'}], 'path': '0'}]\n",
            "/data/scratch/charlesxu/miniconda3/envs/immune/lib/python3.10/site-packages/zarr/creation.py:614: UserWarning: ignoring keyword argument 'read_only'\n",
            "  compressor, fill_value = _kwargs_compat(compressor, fill_value, kwargs)\n",
            "10:50:55 resolution: 0\n",
            "10:50:55  - shape ('c', 'y', 'x') = (1, 17000, 20992)\n",
            "10:50:55  - chunks =  ['1', '5792 (+ 5416)', '5792 (+ 3616)']\n",
            "10:50:55  - dtype = uint32\n",
            "10:50:55 root_attr: multiscales\n",
            "10:50:55 root_attr: omero\n",
            "10:50:55 root_attr: spatialdata_attrs\n",
            "10:50:55 root_attr: multiscales\n",
            "10:50:55 root_attr: omero\n",
            "10:50:55 root_attr: spatialdata_attrs\n",
            "10:50:55 datasets [{'coordinateTransformations': [{'scale': [1.0, 1.0, 1.0], 'type': 'scale'}], 'path': '0'}]\n",
            "10:50:55 resolution: 0\n",
            "10:50:55  - shape ('c', 'y', 'x') = (3, 17000, 20992)\n",
            "10:50:55  - chunks =  ['3', '6688 (+ 3624)', '6688 (+ 928)']\n",
            "10:50:55  - dtype = uint8\n",
            "10:50:55 root_attr: multiscales\n",
            "10:50:55 root_attr: omero\n",
            "10:50:55 root_attr: spatialdata_attrs\n"
          ]
        },
        {
          "name": "stdout",
          "output_type": "stream",
          "text": [
            "data/UC7_I.zarr\n"
          ]
        },
        {
          "name": "stderr",
          "output_type": "stream",
          "text": [
            "10:51:05 looping target=`UC9_I` (8/8)\n",
            "10:51:05 call: infer (UC9_I)\n",
            "10:51:05 root_attr: multiscales\n",
            "10:51:05 root_attr: omero\n",
            "10:51:05 root_attr: spatialdata_attrs\n",
            "10:51:05 datasets [{'coordinateTransformations': [{'scale': [1.0, 1.0, 1.0], 'type': 'scale'}], 'path': '0'}]\n",
            "/data/scratch/charlesxu/miniconda3/envs/immune/lib/python3.10/site-packages/zarr/creation.py:614: UserWarning: ignoring keyword argument 'read_only'\n",
            "  compressor, fill_value = _kwargs_compat(compressor, fill_value, kwargs)\n",
            "10:51:05 resolution: 0\n",
            "10:51:05  - shape ('c', 'y', 'x') = (1, 20000, 21000)\n",
            "10:51:05  - chunks =  ['1', '5792 (+ 2624)', '5792 (+ 3624)']\n",
            "10:51:05  - dtype = uint32\n",
            "10:51:05 root_attr: multiscales\n",
            "10:51:05 root_attr: omero\n",
            "10:51:05 root_attr: spatialdata_attrs\n",
            "10:51:05 root_attr: multiscales\n",
            "10:51:05 root_attr: omero\n",
            "10:51:05 root_attr: spatialdata_attrs\n",
            "10:51:05 datasets [{'coordinateTransformations': [{'scale': [1.0, 1.0, 1.0], 'type': 'scale'}], 'path': '0'}]\n",
            "10:51:05 resolution: 0\n",
            "10:51:05  - shape ('c', 'y', 'x') = (3, 20000, 21000)\n",
            "10:51:05  - chunks =  ['3', '6688 (+ 6624)', '6688 (+ 936)']\n",
            "10:51:05  - dtype = uint8\n",
            "10:51:05 root_attr: multiscales\n",
            "10:51:05 root_attr: omero\n",
            "10:51:05 root_attr: spatialdata_attrs\n"
          ]
        },
        {
          "name": "stdout",
          "output_type": "stream",
          "text": [
            "data/UC9_I.zarr\n"
          ]
        },
        {
          "name": "stderr",
          "output_type": "stream",
          "text": [
            "10:51:21 save prediction - path=data/prediction.parquet\n",
            "10:51:55 ended\n",
            "10:51:55 duration - time=00:01:46\n",
            "10:51:55 memory - before=\"336.17 MB\" after=\"11.65 GB\" consumed=\"11.32 GB\"\n"
          ]
        },
        {
          "data": {
            "text/html": [
              "<div>\n",
              "<style scoped>\n",
              "    .dataframe tbody tr th:only-of-type {\n",
              "        vertical-align: middle;\n",
              "    }\n",
              "\n",
              "    .dataframe tbody tr th {\n",
              "        vertical-align: top;\n",
              "    }\n",
              "\n",
              "    .dataframe thead th {\n",
              "        text-align: right;\n",
              "    }\n",
              "</style>\n",
              "<table border=\"1\" class=\"dataframe\">\n",
              "  <thead>\n",
              "    <tr style=\"text-align: right;\">\n",
              "      <th></th>\n",
              "      <th>cell_id</th>\n",
              "      <th>gene</th>\n",
              "      <th>prediction</th>\n",
              "      <th>sample</th>\n",
              "    </tr>\n",
              "  </thead>\n",
              "  <tbody>\n",
              "    <tr>\n",
              "      <th>0</th>\n",
              "      <td>92</td>\n",
              "      <td>A2M</td>\n",
              "      <td>0.067656</td>\n",
              "      <td>DC1</td>\n",
              "    </tr>\n",
              "    <tr>\n",
              "      <th>1</th>\n",
              "      <td>92</td>\n",
              "      <td>ACP5</td>\n",
              "      <td>0.506959</td>\n",
              "      <td>DC1</td>\n",
              "    </tr>\n",
              "    <tr>\n",
              "      <th>2</th>\n",
              "      <td>92</td>\n",
              "      <td>ACTA2</td>\n",
              "      <td>0.954093</td>\n",
              "      <td>DC1</td>\n",
              "    </tr>\n",
              "    <tr>\n",
              "      <th>3</th>\n",
              "      <td>92</td>\n",
              "      <td>ADAMTSL3</td>\n",
              "      <td>0.013037</td>\n",
              "      <td>DC1</td>\n",
              "    </tr>\n",
              "    <tr>\n",
              "      <th>4</th>\n",
              "      <td>92</td>\n",
              "      <td>AFAP1L2</td>\n",
              "      <td>0.160890</td>\n",
              "      <td>DC1</td>\n",
              "    </tr>\n",
              "    <tr>\n",
              "      <th>...</th>\n",
              "      <td>...</td>\n",
              "      <td>...</td>\n",
              "      <td>...</td>\n",
              "      <td>...</td>\n",
              "    </tr>\n",
              "    <tr>\n",
              "      <th>21891395</th>\n",
              "      <td>131071</td>\n",
              "      <td>WFDC2</td>\n",
              "      <td>0.111693</td>\n",
              "      <td>UC9_I</td>\n",
              "    </tr>\n",
              "    <tr>\n",
              "      <th>21891396</th>\n",
              "      <td>131071</td>\n",
              "      <td>XBP1</td>\n",
              "      <td>0.080335</td>\n",
              "      <td>UC9_I</td>\n",
              "    </tr>\n",
              "    <tr>\n",
              "      <th>21891397</th>\n",
              "      <td>131071</td>\n",
              "      <td>XCL2</td>\n",
              "      <td>0.074284</td>\n",
              "      <td>UC9_I</td>\n",
              "    </tr>\n",
              "    <tr>\n",
              "      <th>21891398</th>\n",
              "      <td>131071</td>\n",
              "      <td>XCR1</td>\n",
              "      <td>0.092199</td>\n",
              "      <td>UC9_I</td>\n",
              "    </tr>\n",
              "    <tr>\n",
              "      <th>21891399</th>\n",
              "      <td>131071</td>\n",
              "      <td>ZEB2</td>\n",
              "      <td>0.515440</td>\n",
              "      <td>UC9_I</td>\n",
              "    </tr>\n",
              "  </tbody>\n",
              "</table>\n",
              "<p>138724500 rows × 4 columns</p>\n",
              "</div>"
            ],
            "text/plain": [
              "          cell_id      gene  prediction sample\n",
              "0              92       A2M    0.067656    DC1\n",
              "1              92      ACP5    0.506959    DC1\n",
              "2              92     ACTA2    0.954093    DC1\n",
              "3              92  ADAMTSL3    0.013037    DC1\n",
              "4              92   AFAP1L2    0.160890    DC1\n",
              "...           ...       ...         ...    ...\n",
              "21891395   131071     WFDC2    0.111693  UC9_I\n",
              "21891396   131071      XBP1    0.080335  UC9_I\n",
              "21891397   131071      XCL2    0.074284  UC9_I\n",
              "21891398   131071      XCR1    0.092199  UC9_I\n",
              "21891399   131071      ZEB2    0.515440  UC9_I\n",
              "\n",
              "[138724500 rows x 4 columns]"
            ]
          },
          "execution_count": 5,
          "metadata": {},
          "output_type": "execute_result"
        }
      ],
      "source": [
        "# This command is running a local test with your submission\n",
        "# making sure that your submission can be accepted by the system\n",
        "crunch.test(\n",
        "    no_determinism_check=True,\n",
        ")"
      ]
    },
    {
      "cell_type": "markdown",
      "metadata": {
        "id": "2rxm1pAdp9p8"
      },
      "source": [
        "Now remember to download this notebook and then submit it at https://hub.crunchdao.com/competitions/broad-1/submit/"
      ]
    },
    {
      "cell_type": "markdown",
      "metadata": {
        "id": "fO85RIzyp9p9"
      },
      "source": []
    }
  ],
  "metadata": {
    "colab": {
      "provenance": []
    },
    "kernelspec": {
      "display_name": "immune",
      "language": "python",
      "name": "python3"
    },
    "language_info": {
      "codemirror_mode": {
        "name": "ipython",
        "version": 3
      },
      "file_extension": ".py",
      "mimetype": "text/x-python",
      "name": "python",
      "nbconvert_exporter": "python",
      "pygments_lexer": "ipython3",
      "version": "3.10.15"
    }
  },
  "nbformat": 4,
  "nbformat_minor": 0
}
